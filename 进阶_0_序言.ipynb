{
 "cells": [
  {
   "cell_type": "markdown",
   "metadata": {},
   "source": [
    "# 进阶0 序言"
   ]
  },
  {
   "cell_type": "markdown",
   "metadata": {},
   "source": [
    "本章之前的内容，是基于比特币白皮书的区块链技术入门教程；\n",
    "\n",
    "从本章开始，将更深入地讨论区块链学科体系。"
   ]
  },
  {
   "cell_type": "markdown",
   "metadata": {},
   "source": [
    "## 进阶内容适合人群\n",
    "\n",
    "希望在区块链领域有更深入发展的技术人员。\n",
    "\n",
    "## 进阶内容涉及知识点\n",
    "\n",
    "联盟链、分布式系统、计算机通信、数学、密码学、信息学与多语言编程。"
   ]
  },
  {
   "cell_type": "markdown",
   "metadata": {},
   "source": [
    "## 区块链技术六层架构\n",
    "\n",
    "本进阶课程以六层架构为基础进行课程设计\n",
    "\n",
    "![区块链技术六层架构](pics/区块链技术六层架构.png)"
   ]
  },
  {
   "cell_type": "code",
   "execution_count": null,
   "metadata": {},
   "outputs": [],
   "source": []
  },
  {
   "cell_type": "code",
   "execution_count": null,
   "metadata": {},
   "outputs": [],
   "source": []
  }
 ],
 "metadata": {
  "kernelspec": {
   "display_name": "Python 3",
   "language": "python",
   "name": "python3"
  },
  "language_info": {
   "codemirror_mode": {
    "name": "ipython",
    "version": 3
   },
   "file_extension": ".py",
   "mimetype": "text/x-python",
   "name": "python",
   "nbconvert_exporter": "python",
   "pygments_lexer": "ipython3",
   "version": "3.7.4"
  }
 },
 "nbformat": 4,
 "nbformat_minor": 4
}
